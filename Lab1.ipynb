{
 "cells": [
  {
   "cell_type": "markdown",
   "metadata": {},
   "source": [
    "# In Class Lab 1\n",
    "\n",
    "## Part A:  The Local Standard of Rest\n",
    "Proper motion of Sgr A* from Reid & Brunthaler 2004\n",
    "$\\mu = 6.379$ mas/yr \n",
    "\n",
    "Peculiar motion of the sun, $v_\\odot$ = 12.24 km/s  (Schonrich 2010)\n",
    "\n",
    "\n",
    "$v_{tan} = 4.74 \\frac{\\mu}{\\rm mas/yr} \\frac{R_o}{\\rm kpc} = V_{LSR} + v_\\odot$\n",
    "\n",
    "\n",
    "### a)\n",
    "\n",
    "Create a function called VLSR to compute the local standard of res (V$_{LSR}$).\n",
    "\n",
    "The function should take as input: the solar radius (R$_o$), the proper motion (mu)\n",
    "and the peculiar motion of the sun in the $v_\\odot$ direction.\n",
    "\n",
    "Compute V$_{LSR}$ using three different values R$_o$: \n",
    "1. Water Maser Distance for the Sun :  R$_o$ = 8.34 kpc   (Reid 2014 ApJ 783) \n",
    "2. GRAVITY Collaboration Distance for the Sun:  R$_o$ = 8.178 kpc   (Abuter+2019 A&A 625)\n",
    "3. Value for Distance to Sun listed in Sparke & Gallagher : R$_o$ = 7.9 kpc \n"
   ]
  },
  {
   "cell_type": "code",
   "execution_count": 2,
   "metadata": {},
   "outputs": [],
   "source": [
    "import numpy as np"
   ]
  },
  {
   "cell_type": "code",
   "execution_count": 3,
   "metadata": {},
   "outputs": [
    {
     "name": "stdout",
     "output_type": "stream",
     "text": [
      "239.9320764\n",
      "235.03376988000002\n",
      "226.628034\n"
     ]
    }
   ],
   "source": [
    "#Radius is distance of the sun from the galactic center in kpc\n",
    "#mu is Proper motion of Sgr A* from Reid & Brunthaler 2004 in mas/yr\n",
    "#motion is Peculiar motion of the sun(Schonrich 2010) in km/s\n",
    "\n",
    "def VLSR(radius, mu = 6.379, motion = 12.24): #Compute local standard of rest velocity\n",
    "    return (4.74 * mu * radius) - motion; #return vlsr\n",
    "\n",
    "#All following values are in kpc\n",
    "WMD = 8.34 #Water Maser Distance for the Sun (Reid 2014 ApJ 783) \n",
    "GCD = 8.178 #GRAVITY Collaboration Distance for the Sun (Abuter+2019 A&A 625)\n",
    "VDS = 7.9 #Value for Distance to Sun listed in Sparke & Gallagher\n",
    "\n",
    "VLSR_Reid = VLSR(WMD) #Calculate VLSR for each of the radius values\n",
    "VLSR_Abuter = VLSR(GCD)\n",
    "VLSR_Sparke = VLSR(VDS)\n",
    "\n",
    "print(VLSR_Reid) #print\n",
    "print(VLSR_Abuter)\n",
    "print(VLSR_Sparke)"
   ]
  },
  {
   "cell_type": "markdown",
   "metadata": {},
   "source": [
    "### b)\n",
    "\n",
    "compute the orbital period of the sun using R$_o$ from the GRAVITY Collaboration (assume circular orbit)\n",
    "\n",
    "Note that 1 km/s $\\sim$ 1kpc/Gyr"
   ]
  },
  {
   "cell_type": "code",
   "execution_count": 7,
   "metadata": {},
   "outputs": [
    {
     "name": "stdout",
     "output_type": "stream",
     "text": [
      "0.20780161788713317\n"
     ]
    }
   ],
   "source": [
    "#Compute orbital period using GRAVITY Collaboration value\n",
    "v_Tan = VLSR(GCD) +12.24\n",
    "T_grav = (2 * np.pi * GCD)/v_Tan\n",
    "print(T_grav)"
   ]
  },
  {
   "cell_type": "markdown",
   "metadata": {},
   "source": [
    "### c)\n",
    "\n",
    "Compute the number of rotations about the GC over the age of the universe (13.8 Gyr)"
   ]
  },
  {
   "cell_type": "code",
   "execution_count": 17,
   "metadata": {},
   "outputs": [
    {
     "name": "stdout",
     "output_type": "stream",
     "text": [
      "66.40949257428511\n"
     ]
    }
   ],
   "source": [
    "#Determining the number of rotations abotu the galactic center\n",
    "#Age of the Universe / Orbital Period\n",
    "print(13.8/T_grav)"
   ]
  },
  {
   "cell_type": "markdown",
   "metadata": {},
   "source": [
    "## Part B  Dark Matter Density Profiles\n",
    "\n",
    "### a)\n",
    "Try out Fitting Rotation Curves \n",
    "[here](http://wittman.physics.ucdavis.edu/Animations/RotationCurve/GalacticRotation.html)\n",
    "\n",
    "\n",
    "### b)\n",
    "\n",
    "In the Isothermal Sphere model, what is the mass enclosed within the solar radius (R$_o$) in units of $10^{10}$ M$_\\odot$? \n",
    "\n",
    "Recall that for the Isothermal sphere :\n",
    "$\\rho(r) = \\frac{V_{LSR}^2}{4\\pi G r^2}$\n",
    "\n",
    "Where $G$ = 4.4988e-6 kpc$^3$/Gyr$^2$/M$_\\odot$\n",
    "\n",
    "What about at 260 kpc (in units of 10$^{12}$ M$_\\odot$) ? "
   ]
  },
  {
   "cell_type": "code",
   "execution_count": 14,
   "metadata": {},
   "outputs": [
    {
     "name": "stdout",
     "output_type": "stream",
     "text": [
      "0.003494039356918094\n"
     ]
    }
   ],
   "source": [
    "G = 4.4988e-6 #Gravitational constant in kpc^43/Gyr^2/M_sun\n",
    "#rho = (VLSR())**2/(4*np.pi*G*Radius**2) #Density profile for isothermal sphere\n",
    "\n",
    "#Mass = integrate rho dr\n",
    "#Mass = VLSR^2 / G * r\n",
    "\n",
    "#VLSR is local standard rest velocity\n",
    "#Radius is distance to galactic center\n",
    "def MassIso(VLSR, radius): #Compute mass enclosed within a given radius assuming isothermal sphere model\n",
    "    return ((VLSR**2) * radius) / G;\n",
    "    \n",
    "M_Solar = MassIso(GCD, VLSR_Abuter) #Mass enclosed within solar radius\n",
    "print(M_Solar/1e12)\n"
   ]
  },
  {
   "cell_type": "markdown",
   "metadata": {},
   "source": [
    "## c) \n",
    "\n",
    "The Leo I satellite is one of the fastest moving satellite galaxies we know. \n",
    "\n",
    "\n",
    "It is moving with 3D velocity of magnitude: Vtot = 196 km/s at a distance of 260 kpc (Sohn 2013 ApJ 768)\n",
    "\n",
    "If we assume that Leo I is moving at the escape speed:\n",
    "\n",
    "$v_{esc}^2 = 2|\\Phi| = 2 \\int G \\frac{\\rho(r)}{r}dV $ \n",
    "\n",
    "and assuming the Milky Way is well modeled by a Hernquist Sphere with a scale radius of $a$= 30 kpc, what is the minimum mass of the Milky Way (in units of $10^{12}$ M$_\\odot$) ?  \n",
    "\n",
    "How does this compare to estimates of the mass assuming the Isothermal Sphere model at 260 kpc (from your answer above)"
   ]
  },
  {
   "cell_type": "code",
   "execution_count": 16,
   "metadata": {},
   "outputs": [],
   "source": [
    "#Potential for a Hernquist Sphere\n",
    "# phi = G*M/(r+a)\n",
    "\n",
    "#USing the hernquist potnetial, the equation for the escape speed becomes \n",
    "#vesc^2 = 2*G*M/(r+a)\n",
    "\n",
    "#Rearranging th escape equation for M\n",
    "#M = vesc^2 * (r+a) / (G*M)\n",
    "\n",
    "# vesc is the escape velocity in km/s for the speed of the satellite\n",
    "#a is the hernquist scale length\n",
    "#r is the distance from the galactic center\n",
    "def MassFromVesc (vesc, a, r):\n",
    "    return (vesc**2)/2/G*(r + a);\n",
    "\n",
    "MLeo1 = MassFromVesc(196, 30, 260)"
   ]
  },
  {
   "cell_type": "code",
   "execution_count": null,
   "metadata": {},
   "outputs": [],
   "source": []
  }
 ],
 "metadata": {
  "kernelspec": {
   "display_name": "Python 3",
   "language": "python",
   "name": "python3"
  },
  "language_info": {
   "codemirror_mode": {
    "name": "ipython",
    "version": 3
   },
   "file_extension": ".py",
   "mimetype": "text/x-python",
   "name": "python",
   "nbconvert_exporter": "python",
   "pygments_lexer": "ipython3",
   "version": "3.7.3"
  }
 },
 "nbformat": 4,
 "nbformat_minor": 2
}
